{
 "cells": [
  {
   "cell_type": "code",
   "execution_count": 13,
   "metadata": {},
   "outputs": [],
   "source": [
    "import pandas as pd\n",
    "from pandas import DataFrame\n",
    "\n",
    "import sys\n",
    "sys.path.append(\"..\")  # Adds the parent directory to the Python path\n",
    "from func_mors_dfs import filter_bab"
   ]
  },
  {
   "cell_type": "code",
   "execution_count": 14,
   "metadata": {},
   "outputs": [
    {
     "name": "stdout",
     "output_type": "stream",
     "text": [
      "['PRS - MORS' 'PTT - MORS' 'COS - MORSC' 'COS - MORSB']\n"
     ]
    }
   ],
   "source": [
    "mors_csv_filepath = \"/Users/ellengoddard/Library/CloudStorage/OneDrive-WarrenHouseGroup/working_data/mors_table.csv\"\n",
    "na_list = [999, '', 'Not applicable', 'NULL', 'Undefined', 'Unknown']\n",
    "mors_df =  pd.read_csv(mors_csv_filepath, na_values = na_list)\n",
    "\n",
    "filtered_mors = filter_bab(mors_df)\n",
    "\n",
    "assessment_tools = filtered_mors[\"assessment_tool\"].unique()\n",
    "\n",
    "# Assert that \"BAB - MORS\" is not in the assessment_tools array\n",
    "assert \"BAB - MORS\" not in assessment_tools, '\"BAB - MORS\" is in assessment_tools'\n",
    "print(assessment_tools)\n"
   ]
  }
 ],
 "metadata": {
  "kernelspec": {
   "display_name": "Python 3",
   "language": "python",
   "name": "python3"
  },
  "language_info": {
   "codemirror_mode": {
    "name": "ipython",
    "version": 3
   },
   "file_extension": ".py",
   "mimetype": "text/x-python",
   "name": "python",
   "nbconvert_exporter": "python",
   "pygments_lexer": "ipython3",
   "version": "3.9.6"
  },
  "orig_nbformat": 4
 },
 "nbformat": 4,
 "nbformat_minor": 2
}
