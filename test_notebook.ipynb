{
 "cells": [
  {
   "cell_type": "code",
   "execution_count": 1,
   "metadata": {},
   "outputs": [],
   "source": [
    "# Top level run file\n",
    "# Run the code from here\n",
    "\n",
    "# Import the user defined functions\n",
    "\n",
    "from func_mors_dfs import create_mors_df_dict, filter_bab\n",
    "from func_read_data import read_data\n",
    "from func_score_agg import score_agg\n",
    "from process_mors import process_mors\n",
    "\n",
    "# File path and names. Names are used as keys in the data_dict\n",
    "path = '/Users/ellengoddard/Desktop/working_data/'\n",
    "f_names = ['core_10_table', 'mors_table', 'pai_table_v2',\n",
    "           'swemwebs_table', 'whooley_table']\n",
    "ext = '.csv'\n",
    "# List of NaN indicators used on read in of data\n",
    "na_list = [999, '', 'Not applicable', 'NULL', 'Undefined', 'Unknown']\n",
    "\n",
    "# Read in all datasets\n",
    "data_dict = read_data(path, f_names, ext, na_list)\n",
    "\n",
    "# Run the sub functions to aggregate the scores for each measure\n",
    "# and invert where necessary so a higher score is always better\n",
    "data_dict = score_agg(data_dict, f_names)\n",
    "\n",
    "# Define MORS dataset \n",
    "mors_df = data_dict['mors_table']\n",
    "\n",
    "# Remove Baby Steps data from MORS \n",
    "mors_df_filtered = filter_bab(mors_df)\n",
    "\n",
    "# Separate MORS into dataframes based on assessment tool \n",
    "mors_df_dict = create_mors_df_dict(mors_df_filtered)\n",
    "\n",
    "processed_mors_dict = process_mors(mors_df_dict)\n",
    "\n",
    "# Combine the original data_dict with the mors_df_dict\n",
    "combined_data_dict = {**data_dict, **processed_mors_dict}\n",
    "\n",
    "\n",
    "\n"
   ]
  },
  {
   "cell_type": "code",
   "execution_count": 2,
   "metadata": {},
   "outputs": [
    {
     "name": "stdout",
     "output_type": "stream",
     "text": [
      "<class 'pandas.core.frame.DataFrame'>\n",
      "Index: 190 entries, 52 to 581\n",
      "Data columns (total 34 columns):\n",
      " #   Column                   Non-Null Count  Dtype         \n",
      "---  ------                   --------------  -----         \n",
      " 0   leap_user_key            190 non-null    int64         \n",
      " 1   assessment_date          190 non-null    datetime64[ns]\n",
      " 2   assessment_tool          190 non-null    category      \n",
      " 3   event                    189 non-null    category      \n",
      " 4   age_at_registration      186 non-null    float64       \n",
      " 5   ethnicity_b              183 non-null    category      \n",
      " 6   home_language            175 non-null    category      \n",
      " 7   lone_parent              2 non-null      category      \n",
      " 8   lsoacode                 189 non-null    category      \n",
      " 9   ward_name                189 non-null    category      \n",
      " 10  ward_code                189 non-null    category      \n",
      " 11  borough                  189 non-null    category      \n",
      " 12  lsoaname                 189 non-null    category      \n",
      " 13  imdscore                 189 non-null    float64       \n",
      " 14  imddecile                189 non-null    float64       \n",
      " 15  f1                       189 non-null    float64       \n",
      " 16  decile_1                 179 non-null    float64       \n",
      " 17  imd_local_dec            179 non-null    float64       \n",
      " 18  imd_local_quint          179 non-null    float64       \n",
      " 19  mergestatus              190 non-null    category      \n",
      " 20  bab_total_dosage         14 non-null     float64       \n",
      " 21  bab_reached_dosage_yn    14 non-null     object        \n",
      " 22  bab_date_reached_dosage  13 non-null     datetime64[ns]\n",
      " 23  ptt_total_dosage         11 non-null     float64       \n",
      " 24  ptt_reached_dosage_yn    11 non-null     object        \n",
      " 25  ptt_date_reached_dosage  10 non-null     datetime64[ns]\n",
      " 26  cos_total_dosage         190 non-null    float64       \n",
      " 27  cos_reached_dosage_yn    190 non-null    bool          \n",
      " 28  cos_date_reached_dosage  167 non-null    datetime64[ns]\n",
      " 29  warmth_total             190 non-null    float64       \n",
      " 30  invasion_total           190 non-null    float64       \n",
      " 31  invasion_final           190 non-null    float64       \n",
      " 32  warmth_final             190 non-null    float64       \n",
      " 33  total_final              190 non-null    float64       \n",
      "dtypes: bool(1), category(11), datetime64[ns](4), float64(15), int64(1), object(2)\n",
      "memory usage: 45.5+ KB\n"
     ]
    }
   ],
   "source": [
    "combined_data_dict[\"COS - MORSC\"].info()"
   ]
  },
  {
   "cell_type": "code",
   "execution_count": 3,
   "metadata": {},
   "outputs": [
    {
     "data": {
      "text/plain": [
       "74     COS - MORSB\n",
       "109    COS - MORSB\n",
       "112    COS - MORSB\n",
       "122    COS - MORSB\n",
       "128    COS - MORSB\n",
       "138    COS - MORSB\n",
       "144    COS - MORSB\n",
       "146    COS - MORSB\n",
       "149    COS - MORSB\n",
       "150    COS - MORSB\n",
       "162    COS - MORSB\n",
       "164    COS - MORSB\n",
       "197    COS - MORSB\n",
       "198    COS - MORSB\n",
       "252    COS - MORSB\n",
       "269    COS - MORSB\n",
       "270    COS - MORSB\n",
       "271    COS - MORSB\n",
       "272    COS - MORSB\n",
       "340    COS - MORSB\n",
       "346    COS - MORSB\n",
       "347    COS - MORSB\n",
       "348    COS - MORSB\n",
       "352    COS - MORSB\n",
       "370    COS - MORSB\n",
       "375    COS - MORSB\n",
       "420    COS - MORSB\n",
       "421    COS - MORSB\n",
       "423    COS - MORSB\n",
       "530    COS - MORSB\n",
       "532    COS - MORSB\n",
       "576    COS - MORSB\n",
       "583    COS - MORSB\n",
       "594    COS - MORSB\n",
       "Name: assessment_tool, dtype: category\n",
       "Categories (1, object): ['COS - MORSB']"
      ]
     },
     "execution_count": 3,
     "metadata": {},
     "output_type": "execute_result"
    }
   ],
   "source": [
    "combined_data_dict[\"COS - MORSB\"][\"assessment_tool\"]"
   ]
  }
 ],
 "metadata": {
  "kernelspec": {
   "display_name": "Python 3",
   "language": "python",
   "name": "python3"
  },
  "language_info": {
   "codemirror_mode": {
    "name": "ipython",
    "version": 3
   },
   "file_extension": ".py",
   "mimetype": "text/x-python",
   "name": "python",
   "nbconvert_exporter": "python",
   "pygments_lexer": "ipython3",
   "version": "3.12.2"
  },
  "orig_nbformat": 4
 },
 "nbformat": 4,
 "nbformat_minor": 2
}
