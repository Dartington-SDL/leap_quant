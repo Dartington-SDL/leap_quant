{
 "cells": [
  {
   "cell_type": "code",
   "execution_count": 1,
   "metadata": {},
   "outputs": [
    {
     "ename": "KeyError",
     "evalue": "\"Only a column name can be used for the key in a dtype mappings argument. 'bab_total_dosage' not found in columns.\"",
     "output_type": "error",
     "traceback": [
      "\u001b[0;31m---------------------------------------------------------------------------\u001b[0m",
      "\u001b[0;31mKeyError\u001b[0m                                  Traceback (most recent call last)",
      "\u001b[0;32m/var/folders/0g/hs03bmf97_929kg4q3b_7fnm0000gn/T/ipykernel_79109/3590906823.py\u001b[0m in \u001b[0;36m?\u001b[0;34m()\u001b[0m\n\u001b[1;32m     53\u001b[0m \u001b[0mcombined_dict_parsed_bools\u001b[0m \u001b[0;34m=\u001b[0m \u001b[0mreduce_df_dict\u001b[0m\u001b[0;34m(\u001b[0m\u001b[0mcombined_dict_parsed_dates\u001b[0m\u001b[0;34m,\u001b[0m \u001b[0mpartial_transform_column_vals_bool_parse\u001b[0m\u001b[0;34m)\u001b[0m\u001b[0;34m\u001b[0m\u001b[0;34m\u001b[0m\u001b[0m\n\u001b[1;32m     54\u001b[0m \u001b[0;34m\u001b[0m\u001b[0m\n\u001b[1;32m     55\u001b[0m \u001b[0;31m# Attempt to put columns into proper datatypes using the map\u001b[0m\u001b[0;34m\u001b[0m\u001b[0;34m\u001b[0m\u001b[0m\n\u001b[1;32m     56\u001b[0m \u001b[0mpartial_map_dtypes\u001b[0m \u001b[0;34m=\u001b[0m \u001b[0mpartial\u001b[0m\u001b[0;34m(\u001b[0m\u001b[0mmap_dataframe_dtypes\u001b[0m\u001b[0;34m,\u001b[0m \u001b[0mdtype_map\u001b[0m\u001b[0;34m=\u001b[0m\u001b[0mcolumn_datatype_dict\u001b[0m\u001b[0;34m)\u001b[0m\u001b[0;34m\u001b[0m\u001b[0;34m\u001b[0m\u001b[0m\n\u001b[0;32m---> 57\u001b[0;31m \u001b[0mcombined_dict_mapped_dtypes\u001b[0m \u001b[0;34m=\u001b[0m \u001b[0mreduce_df_dict\u001b[0m\u001b[0;34m(\u001b[0m\u001b[0mcombined_dict_parsed_bools\u001b[0m\u001b[0;34m,\u001b[0m \u001b[0mpartial_map_dtypes\u001b[0m\u001b[0;34m)\u001b[0m\u001b[0;34m\u001b[0m\u001b[0;34m\u001b[0m\u001b[0m\n\u001b[0m\u001b[1;32m     58\u001b[0m \u001b[0;34m\u001b[0m\u001b[0m\n\u001b[1;32m     59\u001b[0m \u001b[0mcombined_dict_mapped_dtypes\u001b[0m\u001b[0;34m[\u001b[0m\u001b[0;34m\"pai_table_v2\"\u001b[0m\u001b[0;34m]\u001b[0m\u001b[0;34m\u001b[0m\u001b[0;34m\u001b[0m\u001b[0m\n",
      "\u001b[0;32m~/Desktop/leap_quant/helper_functions.py\u001b[0m in \u001b[0;36m?\u001b[0;34m(df_dict, function)\u001b[0m\n\u001b[1;32m     26\u001b[0m         \u001b[0;31m# print(\"---\")\u001b[0m\u001b[0;34m\u001b[0m\u001b[0;34m\u001b[0m\u001b[0m\n\u001b[1;32m     27\u001b[0m         \u001b[0;31m# print(f\"\\nApplying {function.func.__name__} to DataFrame '{key}':\")\u001b[0m\u001b[0;34m\u001b[0m\u001b[0;34m\u001b[0m\u001b[0m\n\u001b[1;32m     28\u001b[0m         \u001b[0;31m# df.info()\u001b[0m\u001b[0;34m\u001b[0m\u001b[0;34m\u001b[0m\u001b[0m\n\u001b[1;32m     29\u001b[0m         \u001b[0;31m# Apply the function and update the transformed_dict\u001b[0m\u001b[0;34m\u001b[0m\u001b[0;34m\u001b[0m\u001b[0m\n\u001b[0;32m---> 30\u001b[0;31m         \u001b[0mtransformed_dict\u001b[0m\u001b[0;34m[\u001b[0m\u001b[0mkey\u001b[0m\u001b[0;34m]\u001b[0m \u001b[0;34m=\u001b[0m \u001b[0mfunction\u001b[0m\u001b[0;34m(\u001b[0m\u001b[0mdf\u001b[0m\u001b[0;34m,\u001b[0m \u001b[0;34m**\u001b[0m\u001b[0;34m{\u001b[0m\u001b[0;34m'name'\u001b[0m\u001b[0;34m:\u001b[0m \u001b[0mkey\u001b[0m\u001b[0;34m}\u001b[0m\u001b[0;34m)\u001b[0m\u001b[0;34m\u001b[0m\u001b[0;34m\u001b[0m\u001b[0m\n\u001b[0m\u001b[1;32m     31\u001b[0m \u001b[0;34m\u001b[0m\u001b[0m\n\u001b[1;32m     32\u001b[0m     \u001b[0;32mreturn\u001b[0m \u001b[0mtransformed_dict\u001b[0m\u001b[0;34m\u001b[0m\u001b[0;34m\u001b[0m\u001b[0m\n",
      "\u001b[0;32m~/Desktop/leap_quant/helper_functions.py\u001b[0m in \u001b[0;36m?\u001b[0;34m(df, dtype_map, **kwargs)\u001b[0m\n\u001b[1;32m     64\u001b[0m \u001b[0;32mdef\u001b[0m \u001b[0mmap_dataframe_dtypes\u001b[0m\u001b[0;34m(\u001b[0m\u001b[0mdf\u001b[0m\u001b[0;34m:\u001b[0m \u001b[0mpd\u001b[0m\u001b[0;34m.\u001b[0m\u001b[0mDataFrame\u001b[0m\u001b[0;34m,\u001b[0m \u001b[0mdtype_map\u001b[0m\u001b[0;34m:\u001b[0m \u001b[0mDict\u001b[0m\u001b[0;34m[\u001b[0m\u001b[0mstr\u001b[0m\u001b[0;34m,\u001b[0m \u001b[0mstr\u001b[0m\u001b[0;34m]\u001b[0m\u001b[0;34m,\u001b[0m \u001b[0;34m**\u001b[0m\u001b[0mkwargs\u001b[0m\u001b[0;34m)\u001b[0m\u001b[0;34m:\u001b[0m\u001b[0;34m\u001b[0m\u001b[0;34m\u001b[0m\u001b[0m\n\u001b[1;32m     65\u001b[0m      \u001b[0mdf_copy\u001b[0m \u001b[0;34m=\u001b[0m \u001b[0mdf\u001b[0m\u001b[0;34m.\u001b[0m\u001b[0mcopy\u001b[0m\u001b[0;34m(\u001b[0m\u001b[0;34m)\u001b[0m\u001b[0;34m\u001b[0m\u001b[0;34m\u001b[0m\u001b[0m\n\u001b[0;32m---> 66\u001b[0;31m      \u001b[0mdf_copy\u001b[0m\u001b[0;34m.\u001b[0m\u001b[0mastype\u001b[0m\u001b[0;34m(\u001b[0m\u001b[0mdtype_map\u001b[0m\u001b[0;34m)\u001b[0m\u001b[0;34m\u001b[0m\u001b[0;34m\u001b[0m\u001b[0m\n\u001b[0m\u001b[1;32m     67\u001b[0m \u001b[0;34m\u001b[0m\u001b[0m\n\u001b[1;32m     68\u001b[0m      \u001b[0;32mreturn\u001b[0m \u001b[0mdf_copy\u001b[0m\u001b[0;34m\u001b[0m\u001b[0;34m\u001b[0m\u001b[0m\n",
      "\u001b[0;32m~/Library/Caches/pypoetry/virtualenvs/leap-quant-u4aSduTO-py3.12/lib/python3.12/site-packages/pandas/core/generic.py\u001b[0m in \u001b[0;36m?\u001b[0;34m(self, dtype, copy, errors)\u001b[0m\n\u001b[1;32m   6598\u001b[0m             \u001b[0mdtype_ser\u001b[0m \u001b[0;34m=\u001b[0m \u001b[0mSeries\u001b[0m\u001b[0;34m(\u001b[0m\u001b[0mdtype\u001b[0m\u001b[0;34m,\u001b[0m \u001b[0mdtype\u001b[0m\u001b[0;34m=\u001b[0m\u001b[0mobject\u001b[0m\u001b[0;34m)\u001b[0m\u001b[0;34m\u001b[0m\u001b[0;34m\u001b[0m\u001b[0m\n\u001b[1;32m   6599\u001b[0m \u001b[0;34m\u001b[0m\u001b[0m\n\u001b[1;32m   6600\u001b[0m             \u001b[0;32mfor\u001b[0m \u001b[0mcol_name\u001b[0m \u001b[0;32min\u001b[0m \u001b[0mdtype_ser\u001b[0m\u001b[0;34m.\u001b[0m\u001b[0mindex\u001b[0m\u001b[0;34m:\u001b[0m\u001b[0;34m\u001b[0m\u001b[0;34m\u001b[0m\u001b[0m\n\u001b[1;32m   6601\u001b[0m                 \u001b[0;32mif\u001b[0m \u001b[0mcol_name\u001b[0m \u001b[0;32mnot\u001b[0m \u001b[0;32min\u001b[0m \u001b[0mself\u001b[0m\u001b[0;34m:\u001b[0m\u001b[0;34m\u001b[0m\u001b[0;34m\u001b[0m\u001b[0m\n\u001b[0;32m-> 6602\u001b[0;31m                     raise KeyError(\n\u001b[0m\u001b[1;32m   6603\u001b[0m                         \u001b[0;34m\"Only a column name can be used for the \"\u001b[0m\u001b[0;34m\u001b[0m\u001b[0;34m\u001b[0m\u001b[0m\n\u001b[1;32m   6604\u001b[0m                         \u001b[0;34m\"key in a dtype mappings argument. \"\u001b[0m\u001b[0;34m\u001b[0m\u001b[0;34m\u001b[0m\u001b[0m\n\u001b[1;32m   6605\u001b[0m                         \u001b[0;34mf\"\u001b[0m\u001b[0;34m'\u001b[0m\u001b[0;34m{\u001b[0m\u001b[0mcol_name\u001b[0m\u001b[0;34m}\u001b[0m\u001b[0;34m' not found in columns.\u001b[0m\u001b[0;34m\"\u001b[0m\u001b[0;34m\u001b[0m\u001b[0;34m\u001b[0m\u001b[0m\n",
      "\u001b[0;31mKeyError\u001b[0m: \"Only a column name can be used for the key in a dtype mappings argument. 'bab_total_dosage' not found in columns.\""
     ]
    }
   ],
   "source": [
    "# Top level run file\n",
    "# Run the code from here\n",
    "\n",
    "# Import the user defined functions\n",
    "from functools import partial\n",
    "\n",
    "from func_mors_dfs import create_mors_df_dict, filter_bab\n",
    "from config_objects import column_datatype_dict\n",
    "from func_read_data import read_data\n",
    "from func_score_agg import score_agg\n",
    "from helper_functions import parse_mors_datestring, reduce_df_dict, parse_binary_to_boolean, map_dataframe_dtypes\n",
    "from subfunctions.sub_func_remove_cols_by_pattern import remove_cols_by_pattern\n",
    "from subfunctions.sub_func_transform_column_values import transform_column_values\n",
    "\n",
    "# File path and names. Names are used as keys in the data_dict\n",
    "path = '/Users/ellengoddard/Desktop/working_data/'\n",
    "f_names = ['core_10_table', 'mors_table', 'pai_table_v2',\n",
    "           'swemwebs_table', 'whooley_table']\n",
    "ext = '.csv'\n",
    "# List of NaN indicators used on read in of data\n",
    "na_list = [999, '', 'Not applicable', 'NULL', 'Undefined', 'Unknown']\n",
    "\n",
    "# Read in all datasets\n",
    "data_dict = read_data(path, f_names, ext, na_list)\n",
    "\n",
    "# Run the sub functions to aggregate the scores for each measure\n",
    "# and invert where necessary so a higher score is always better\n",
    "data_dict = score_agg(data_dict, f_names)\n",
    "\n",
    "# Define MORS dataset \n",
    "mors_df = data_dict['mors_table']\n",
    "\n",
    "# Remove Baby Steps data from MORS \n",
    "mors_df_filtered = filter_bab(mors_df)\n",
    "\n",
    "# Separate MORS into dataframes based on assessment tool \n",
    "mors_df_dict = create_mors_df_dict(mors_df_filtered)\n",
    "\n",
    "# Combine the original data_dict with the mors_df_dict\n",
    "combined_data_dict = {**data_dict, **mors_df_dict}\n",
    "\n",
    "# Remove columns with column names of pattern \"question_\"\n",
    "combined_dict_no_questions = reduce_df_dict(combined_data_dict, partial(remove_cols_by_pattern, pattern=\"question_\"))\n",
    "\n",
    "# Parse all datestrings into datetime64\n",
    "column_names = [\"assessment_date\", \"ptt_date_reached_dosage\", \"cos_date_reached_dosage\", \"bab_date_reached_dosage\"]\n",
    "partial_transform_column_vals = partial(transform_column_values, column_names=column_names, function=parse_mors_datestring)\n",
    "combined_dict_parsed_dates = reduce_df_dict(combined_dict_no_questions, partial_transform_column_vals)\n",
    "\n",
    "# Parse 0 and 1s into booleans\n",
    "column_names = [\"bab_reached_dosage_yn\", \"ptt_reached_dosage_yn\", \"cos_reached_dosage_yn\", \"bab_reached_dosage_yn\", \"user_has_pre_and_post\"]\n",
    "partial_transform_column_vals_bool_parse = partial(transform_column_values, column_names=column_names, function=parse_binary_to_boolean)\n",
    "combined_dict_parsed_bools = reduce_df_dict(combined_dict_parsed_dates, partial_transform_column_vals_bool_parse)\n",
    "\n",
    "# Attempt to put columns into proper datatypes using the map\n",
    "partial_map_dtypes = partial(map_dataframe_dtypes, dtype_map=column_datatype_dict)\n",
    "combined_dict_mapped_dtypes = reduce_df_dict(combined_dict_parsed_bools, partial_map_dtypes)\n",
    "\n",
    "combined_dict_mapped_dtypes[\"pai_table_v2\"]"
   ]
  }
 ],
 "metadata": {
  "kernelspec": {
   "display_name": "Python 3",
   "language": "python",
   "name": "python3"
  },
  "language_info": {
   "codemirror_mode": {
    "name": "ipython",
    "version": 3
   },
   "file_extension": ".py",
   "mimetype": "text/x-python",
   "name": "python",
   "nbconvert_exporter": "python",
   "pygments_lexer": "ipython3",
   "version": "3.12.2"
  },
  "orig_nbformat": 4
 },
 "nbformat": 4,
 "nbformat_minor": 2
}
