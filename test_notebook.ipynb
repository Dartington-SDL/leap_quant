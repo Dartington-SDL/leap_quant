{
 "cells": [
  {
   "cell_type": "code",
   "execution_count": 2,
   "metadata": {},
   "outputs": [
    {
     "data": {
      "text/plain": [
       "invasion_final\n",
       "25    18\n",
       "26    16\n",
       "27    13\n",
       "20    13\n",
       "23    12\n",
       "30     9\n",
       "29     9\n",
       "28     7\n",
       "19     6\n",
       "21     5\n",
       "24     5\n",
       "22     5\n",
       "31     4\n",
       "18     3\n",
       "33     3\n",
       "15     2\n",
       "17     2\n",
       "32     2\n",
       "13     1\n",
       "16     1\n",
       "14     1\n",
       "34     1\n",
       "11     1\n",
       "6      1\n",
       "Name: count, dtype: int64"
      ]
     },
     "execution_count": 2,
     "metadata": {},
     "output_type": "execute_result"
    }
   ],
   "source": [
    "# Top level run file\n",
    "# Run the code from here\n",
    "\n",
    "# Import the user defined functions\n",
    "\n",
    "from func_mors_dfs import create_mors_df_dict, filter_bab\n",
    "from func_read_data import read_data\n",
    "from func_score_agg import score_agg\n",
    "from process_mors import process_mors\n",
    "\n",
    "# File path and names. Names are used as keys in the data_dict\n",
    "path = \"/Users/ellengoddard/Desktop/working_data/\"\n",
    "f_names = [\n",
    "    \"core_10_table\",\n",
    "    \"mors_table\",\n",
    "    \"pai_table_v2\",\n",
    "    \"swemwebs_table\",\n",
    "    \"whooley_table\",\n",
    "]\n",
    "ext = \".csv\"\n",
    "# List of NaN indicators used on read in of data\n",
    "na_list = [999, \"\", \"Not applicable\", \"NULL\", \"Undefined\", \"Unknown\"]\n",
    "\n",
    "# Read in all datasets\n",
    "data_dict = read_data(path, f_names, ext, na_list)\n",
    "\n",
    "# Run the sub functions to aggregate the scores for each measure\n",
    "# and invert where necessary so a higher score is always better\n",
    "data_dict = score_agg(data_dict, f_names)\n",
    "\n",
    "# Define MORS dataset\n",
    "mors_df = data_dict[\"mors_table\"]\n",
    "\n",
    "# Remove Baby Steps data from MORS\n",
    "mors_df_filtered = filter_bab(mors_df)\n",
    "\n",
    "# Separate MORS into dataframes based on assessment tool\n",
    "mors_df_dict = create_mors_df_dict(mors_df_filtered)\n",
    "\n",
    "\n",
    "processed_mors_dict = process_mors(mors_df_dict)\n",
    "\n",
    "# Combine the original data_dict with the mors_df_dict\n",
    "combined_data_dict = {**data_dict, **processed_mors_dict}\n",
    "\n",
    "\n",
    "combined_data_dict[\"PTT - MORS\"][\"invasion_final\"].value_counts()"
   ]
  }
 ],
 "metadata": {
  "kernelspec": {
   "display_name": "Python 3",
   "language": "python",
   "name": "python3"
  },
  "language_info": {
   "codemirror_mode": {
    "name": "ipython",
    "version": 3
   },
   "file_extension": ".py",
   "mimetype": "text/x-python",
   "name": "python",
   "nbconvert_exporter": "python",
   "pygments_lexer": "ipython3",
   "version": "3.12.2"
  },
  "orig_nbformat": 4
 },
 "nbformat": 4,
 "nbformat_minor": 2
}
